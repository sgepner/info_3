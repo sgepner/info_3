{
 "cells": [
  {
   "cell_type": "markdown",
   "metadata": {
    "slideshow": {
     "slide_type": "slide"
    }
   },
   "source": [
    "# W tym dokumencie:\n",
    "* Logowanie do systemu i praca zdalna\n",
    "    * Uwierzytelnienie przy pomocy kluczy ssh\n",
    "    * Praca zdalna, przekierowanie portów, kopiowanie po ssh\n",
    "* Elementy pracy w systemie\n",
    "    * Edycja plików z linii komend\n",
    "    * Programowanie w BASH, skrypty\n",
    "    * ?\n",
    "\n",
    "* Krótko o bazach danych\n",
    "    * Czym jest baza danych, rodzaje baz\n",
    "    * Wprowadzenie \n",
    "    * SQL wprowadzenie i przykłady\n",
    "\n",
    "Źródła i literatura:\n",
    "* https://www.doc.ic.ac.uk/~wjk/UnixIntro/\n",
    "* https://www.digitalocean.com/community/tutorials/understanding-the-ssh-encryption-and-connection-process\n",
    "* https://pl.wikipedia.org/wiki/RSA_(kryptografia)\n",
    "* https://pl.wikipedia.org/wiki/Arytmetyka_modularna\n",
    "\n",
    "***"
   ]
  },
  {
   "cell_type": "markdown",
   "metadata": {},
   "source": [
    "# Dlaczego SSH to Secure Shell?\n",
    "Dzięki SSH łączenie oraz praca na zdalnej maszynie odbywa się w sposób bezpieczny. My używamy SSH za każdym razem gdy łączymy się z serwerem laboratoryjnym info3. SSH wykorzystuje kilka technik szyfrowania w celu zapewnienia bezpieczeństwa. My pobieżnie przedstawimy pewne podstawy.\n",
    "\n",
    "## Szyfrowanie symetryczne\n",
    "W czasie trwania sesji komunikacja użytkownika ze zdalna maszyną szyfrowana jest przy pomocy **szyfrowania symetrycznego**. Tzn. obie strony dysponują tym samym kluczem służącym do szyfrowania / deszyfrowania wiadomości. Klucz tworzony jest na potrzeby pojedynczej sesji i jest współtworzony przez klienta i server na początku komunikacji.\n",
    "\n",
    "## Szyfrowanie asymetryczne\n",
    "Polega na wykorzystaniu dwóch kluczy, **publicznego** i **prywatnego**. Klucz publiczny jest z założenia jawny i udostępnia się go *światu*, służy do szyfrowania wiadomości. Odczyt tak zaszyfrowanej wiadomości możliwy jest tylko z wykorzystaniem klucza prywatnego. Klucz prywatny pozostaje niejawny i nikomu się go nie udostępnia (nigdy!). Ten typ szyfrowania wykorzystywany jest przez SSH np. w czasie ustalania symetrycznego klucza sesji. Strony wymieniają się tymczasowymi kluczami publicznymi i używają ich do szyfrowania informacji służących do ustalenia klucza sesji (możliwych do odczytu tylko przy użyciu kluczy prywatnych). \n",
    "\n",
    "Dla nas istotne jest wykorzystanie szyfrowania asymetrycznego w celu uwierzytelnienie w czasie logowania do zdalnej maszyny. Podejście takie jest wielokrotnie bardziej bezpieczne niż standardowe podejście oparte o hasło i login, ([np. po ataku na ICM nasz admin uniemożliwił logowanie inne niż poprzez klucz prywatny/publiczny odpowiedniej długości](https://zaufanatrzeciastrona.pl/post/ktos-przez-5-miesiecy-podsluchiwal-hasla-uzytkownikow-centrum-obliczeniowego-uw/)) ponieważ w procesie uwierzytelnienia nigdy nie jest przesyłana wrażliwa informacja, którą można by podsłuchać.\n",
    "\n",
    "Jak to działa? Użytkownik ujawnia swój klucz publiczny (umieszcza go na serwerze). W procesie uwierzytelnienia klucz publiczny służy do skonstruowania *wyzwania*, tj. zaszyfrowanej wiadomości, którą odczytać można jedynie przy pomocy klucza prywatnego. Jeżeli starający się uwierzytelnić dysponuje kluczem prywatnym odpowiada na wyzwanie i może się uwierzytelnić.\n",
    "\n",
    "### Szyfrowanie RSA (Rivesta-Shamira-Adlemana)\n",
    "Obecnie najpopularniejszy algorytm szyfrowania asymetrycznego. Jego bezpieczeństwo opiera się na trudności rozkładu dużych liczb na na dzielniki (faktoryzacji).\n",
    "\n",
    "#### Generowanie kluczy:\n",
    "1. Wybierz dwie duże liczby pierwsze $p$ i $q$\n",
    "2. Oblicz $n=p\\cdot q$\n",
    "3. Oblicz $\\varphi(n) = (p-1)(q-1)$ (funkcja Eulera)\n",
    "4. Wybierz liczbę $e$, względnie pierwszą z $\\varphi(n)$ i mniejszą od niej.\n",
    "5. Znajdź $d$ takie, że $d\\cdot e \\equiv 1 mod(\\varphi(n))$. Ten zapis znaczy, że reszta z dzielenia $d\\cdot e - 1$ przez $\\varphi(n)$ ma być zero.\n",
    "\n",
    "Klucz **publiczny** to para liczb $(n,e)$, klucz prywatny to $(n, d)$.  \n",
    "\n",
    "#### Szyfrowanie:\n",
    "Wiadomość $m$ szyfrujemy tak:  \n",
    "$c = m^e (mod(n))$\n",
    "\n",
    "Deszyfrujemy tak:  \n",
    "$m = c^d (mod(n))$\n",
    "\n",
    "Przypis:\n",
    "$c = m^e(mod(n))$ znaczy reszta z dzielenia $m^e$ przez $n$.  \n",
    "$a \\equiv b (mod(n))$ znaczy, że $a-b$ jest podzielne przez $n$ (przystawania modulo).\n",
    "\n",
    "#### Przykład (Python 3):\n",
    "1."
   ]
  },
  {
   "cell_type": "code",
   "execution_count": 1,
   "metadata": {},
   "outputs": [
    {
     "name": "stdout",
     "output_type": "stream",
     "text": [
      " p = 17 \n",
      " q = 11\n"
     ]
    }
   ],
   "source": [
    "p = 17\n",
    "q = 11\n",
    "print(' p =', p, '\\n', 'q =', q)"
   ]
  },
  {
   "cell_type": "markdown",
   "metadata": {},
   "source": [
    "2. $n=p\\cdot q$"
   ]
  },
  {
   "cell_type": "code",
   "execution_count": 2,
   "metadata": {},
   "outputs": [
    {
     "name": "stdout",
     "output_type": "stream",
     "text": [
      " n = 187\n"
     ]
    }
   ],
   "source": [
    "n = p*q\n",
    "print(' n =', n)"
   ]
  },
  {
   "cell_type": "markdown",
   "metadata": {},
   "source": [
    "3. $\\varphi(n) = (p-1)(q-1)$ "
   ]
  },
  {
   "cell_type": "code",
   "execution_count": 3,
   "metadata": {},
   "outputs": [
    {
     "name": "stdout",
     "output_type": "stream",
     "text": [
      " phi = 160\n"
     ]
    }
   ],
   "source": [
    "phi = (p-1) * (q-1)\n",
    "print(' phi =', phi)"
   ]
  },
  {
   "cell_type": "markdown",
   "metadata": {},
   "source": [
    "4."
   ]
  },
  {
   "cell_type": "code",
   "execution_count": 6,
   "metadata": {},
   "outputs": [
    {
     "name": "stdout",
     "output_type": "stream",
     "text": [
      " e = 23\n",
      " The gcd of 160 and 23 is : 1\n"
     ]
    }
   ],
   "source": [
    "import math\n",
    "e = 23\n",
    "print(' e =', e)\n",
    "\n",
    "print (\" The gcd of\", phi, \"and\", e, \"is : \",end=\"\") \n",
    "print (math.gcd(phi,e))"
   ]
  },
  {
   "cell_type": "markdown",
   "metadata": {},
   "source": [
    "5. $d$ takie, że $d\\cdot e \\equiv 1 mod(\\varphi(n))$  \n",
    "$d\\cdot e-1$ podzielne przez $\\varphi(n)$, albo  \n",
    "$d = {(\\varphi(n)\\cdot i + 1)}/{e}, ~~ i = 1,2,3, ... $ ma być całkowite:"
   ]
  },
  {
   "cell_type": "code",
   "execution_count": 7,
   "metadata": {},
   "outputs": [
    {
     "name": "stdout",
     "output_type": "stream",
     "text": [
      " d = 7\n"
     ]
    }
   ],
   "source": [
    "for i in range(1,10):\n",
    "    d = (phi * i + 1) / e\n",
    "    if d == int(d):\n",
    "        break\n",
    "d = int(d)\n",
    "print(\" d =\", d)"
   ]
  },
  {
   "cell_type": "markdown",
   "metadata": {},
   "source": [
    "Szyfrujemy teraz tajna wiadomość przy pomocy klucza **publicznego**. Nasza wiadomość to $m=25$, $c = m^e (mod(n))$\n",
    ":"
   ]
  },
  {
   "cell_type": "code",
   "execution_count": 8,
   "metadata": {},
   "outputs": [
    {
     "name": "stdout",
     "output_type": "stream",
     "text": [
      " m = 25 zaszyfrowano do c= 49\n"
     ]
    }
   ],
   "source": [
    "m = 25\n",
    "c = m**e % n\n",
    "print(\" m =\", m, \"zaszyfrowano do c=\", c)"
   ]
  },
  {
   "cell_type": "markdown",
   "metadata": {},
   "source": [
    "Deszyfrujemy przy użyciu klucza **prywatnego**, $m = c^d (mod(n))$\n",
    "(zobaczmy, że $c^d$ to całkiem spora liczba):"
   ]
  },
  {
   "cell_type": "code",
   "execution_count": 9,
   "metadata": {},
   "outputs": [
    {
     "name": "stdout",
     "output_type": "stream",
     "text": [
      "678223072849\n"
     ]
    }
   ],
   "source": [
    "m0 = c**d\n",
    "print(m0)"
   ]
  },
  {
   "cell_type": "markdown",
   "metadata": {},
   "source": [
    "Reszta z dzielenia przez $n$:"
   ]
  },
  {
   "cell_type": "code",
   "execution_count": 10,
   "metadata": {},
   "outputs": [
    {
     "name": "stdout",
     "output_type": "stream",
     "text": [
      "Nasza tajna wiadomośc to:  25\n"
     ]
    }
   ],
   "source": [
    "m = m0 % n\n",
    "print(\"Nasza tajna wiadomośc to: \", m)"
   ]
  },
  {
   "cell_type": "markdown",
   "metadata": {},
   "source": [
    "## Logowanie przy pomocy klucza RSA\n",
    "Aby stworzyć parę kluczy rsa wykorzystamy narzędzia dostępne wraz z SSH:  \n",
    "```ssh-keygen -t rsa -b 4096```  \n",
    "stworzy dla nas parę kluczy prywatny/publiczny i umieści je w katalogu ukrytym .ssh. W moim przypadku katalog ten zawiera:"
   ]
  },
  {
   "cell_type": "code",
   "execution_count": null,
   "metadata": {},
   "outputs": [],
   "source": [
    "ls ~/.ssh/"
   ]
  },
  {
   "cell_type": "markdown",
   "metadata": {},
   "source": [
    "Obecnie mam dwa zestawy kluczy. Domyślnu (```id_rsa```) oraz pozwalajacy na uwierzytelnienie na GitHub. Klucz publiczny umieścilem na naszym serwerze laboratoryjnym. osiąga się to poprzez:  \n",
    "```ssh-copy-id -i <path_to_public_key> <user>@info3.meil.pw.edu.pl```  \n",
    "W większości przypadków powinno to wystarczyć."
   ]
  },
  {
   "cell_type": "markdown",
   "metadata": {},
   "source": [
    "### Przykład:\n",
    "Utworzymy nowego użytkownika na info3, może to zrobić super-użytkownik ```root```. Służy do tego komenda ```adduser```.\n",
    "\n",
    "Następnie wygenerujemy parę kluczy i prześlemy klucz publiczny na info3.\n",
    "\n",
    "System na naszej maszynie wymusza użycie kontekstów, powinny się one dostosować automatycznie. Niestety na razie tak się nie dzieje. Aby móc wykorzystać klucz publiczny musimy zrobić następującą rzecz:  \n",
    "```chcon -t ssh_home_t .ssh/authorized_keys```   \n",
    "tzn. dopasować kontekst pliku w, którym zapisany jest nasz klucz publiczny."
   ]
  },
  {
   "cell_type": "markdown",
   "metadata": {},
   "source": [
    "## SSH config\n",
    "Jeżeli pracujemy z wieloma zdalnymi maszynami, dysponujemy więcej niż jednym kluczem (zalecane by nie używać jednego klucza do wszystkiego), wygodnie jest utworzyć plik ```.ssh/config```. Zawierać on będzie informacje ułatwiające łączenie się ze zdalną maszyną. Pojedynczy wpis może wyglądać tak:  \n",
    "```\n",
    "Host info3\n",
    "    HostName info3.meil.pw.edu.pl\n",
    "    Port 22\n",
    "    IdentityFile ~/.ssh/tachion\n",
    "    User sgepner\n",
    "```\n",
    "Zdefiniowaliśmy alias ```info3``` dla maszyny laboratoryjnej, określiliśmy port połączenia (port 22 jest domyślny dla SHH, ale admin paranoik (to zaleta nie wada!) może to zmienić), ścieżkę do klucza prywatnego i użytkownika. Teraz zamiast pisać:  \n",
    "```ssh -i .ssh/tachion sgepner@info3.meil.pw.edu.pl -p 22```   \n",
    "napiszemy:  \n",
    "```ssh info3```"
   ]
  },
  {
   "cell_type": "markdown",
   "metadata": {},
   "source": [
    "## Kopiowanie po SSH\n",
    "Do przenoszenia plików z i na zdalną maszynę służy komenda ```scp```. Wywołuje się ja na maszynie lokalnej podając parametry połączenia do maszyny zdalnej. Np. by skopiować ```plik.txt``` z mojego katalogu domowego na ```info3``` zrobił bym tak:  \n",
    "```scp sgepner@info3.meil.pw.edu.pl:/home/sgepner/plik.txt ./```  \n",
    "podał hasło i oczekiwał rezultatu. Na szczęście dzięki temu, że na zdalnej maszynie umieściłem swój klucz i odpowiednio skonfigurowałem połączenie (```.ssh/congig```) wystarczy:\n",
    "```scp info3:/home/sgepner/plik.txt ./```, działa nawet auto-uzupełnianie ścieżki i nazw.\n",
    "\n",
    "Umieszczenie pliku z komputera lokalnego na zdalnym:  \n",
    "```scp plik info3:/home/sgepner/```\n",
    "\n",
    "Dodatkowe przełączniki:\n",
    "* ```-P``` - określenie portu, jeżeli zmieniony\n",
    "* ```-r``` - rekurencyjnie w odniesieniu do katalogów"
   ]
  },
  {
   "cell_type": "markdown",
   "metadata": {},
   "source": [
    "## Przekierowanie portów\n",
    "Pokażemy teraz jak wykorzystując SSH dostać się do usług, które mogą być schowane w sieci wewnętrznej i dostępne jedynie z jej wnętrza lub zamaskować połączenie tak by wyglądało na wykonane z maszyny zdalnej (np. by dostać się do Biblioteki PW).\n",
    "\n",
    "### Przekierowanie dynamiczne -D\n",
    "Na początek spróbujemy \"podszyć\" się pod Politechnikę i dostać się do wykupionych przez PW zasobów książkowych, dostępnych z terenu PW. W tym celu ustawimy *dynamiczne* przekierowanie portów i ustawimy proxy w przeglądarce. Łączymy się z ```info3```:  \n",
    "```ssh -D 8080 user@serwer```  \n",
    "muśmy teraz ustawić pośrednik połączenia w przeglądarce."
   ]
  },
  {
   "cell_type": "markdown",
   "metadata": {},
   "source": [
    "### Przekierowanie lokalne -L\n",
    "Chcemy teraz uzyskać dostęp do usługi udostępnionej w wewnętrznej sieci, niedostępne z zewnątrz. W tym celu ustawimy przekierowania portów i doprowadzimy do sytuacji, że usługa zdawać się będzie lokalną dla naszej maszyny.\n",
    "\n",
    "Schemat: (narysuj coś!)\n",
    "\n",
    "Załóżmy, że na maszynie ```hyp-19``` (jeden z węzłów GPU naszego klastra HPC) działa server Jupyter Notebook (i liczymy na nim coś co rzeczywiście wymaga dużo mocy i pamięci, a nie tylko marnujemy zasoby), do którego chcielibyśmy się dostać. Standardowo Jupyter działa na *porcie* 8888. Problem jest jednak taki, że węzły dostępne są jedynie z węzła zarządczego *hyperion* a ten z kolei jedynie poprzez węzeł logowania *tachion*, który wychodzi na świat.\n",
    "\n",
    "1. Ustawimy połączenie do tachion, z przekierowaniem ruchu przez nasz lokalny port 1234 na port 22 hyperiona.  \n",
    "```ssh user@server -L local_port:target:target_port -Nf```  \n",
    "(```-Nf``` pozwala przejście połączenia w tło, bez blokowania konsoli.\n",
    "2. Ustawimy teraz przekierowanie portu, np. 8088 na 8888 hyp-17 przez hyperiona, piszemy:  \n",
    "```ssh localhost -p 1233 -L 8088:hyp-18:8888 -i .ssh/tachion -Nf```  \n",
    "Wyjaśnienie: łączymy się na lokalny port 1233 (tam jest hyperion!) i przekierowujemy port 8088 na port maszyny zdalnej hyp-18. W tym przypadku musimy podać klucz, ponieważ .ssh/config nie określa sposobu łączenia z tą maszyną."
   ]
  },
  {
   "cell_type": "markdown",
   "metadata": {},
   "source": [
    "### Przekierowanie odwrotne -R\n",
    "Przydatne gdy chcemy na zewnątrz udostępnić usługę lokalną, np. serwer gry, albo dostęp do własnej maszyny/powłoki z wykrzystaniem pośrednika w postaci dostępnego serwera.\n",
    "```ssh user@server -R remote_port:local_target:target_port -Nf```\n",
    "Ustawi to przekierowanie z portu remote_port na target na target port. Pozwoli na dostanie się do maszyny ustanawiającej tunel z serwera:\n",
    "Rysunek i przykład\n"
   ]
  },
  {
   "cell_type": "markdown",
   "metadata": {},
   "source": [
    "# Skrypty\n",
    "\n",
    "![https://gal.patheticcockroach.com/_data/i/upload/2017/03/18/20170318173200-fe367f59-me.jpg](https://gal.patheticcockroach.com/_data/i/upload/2017/03/18/20170318173200-fe367f59-me.jpg)\n"
   ]
  },
  {
   "cell_type": "markdown",
   "metadata": {},
   "source": [
    "## Operacje na plikach\n",
    "Omówimy teraz (bardzo pobieżnie, jedynie sygnalizując jego istnienie) narzędzie do manipulowania plikami tekstowymi. Narzędzie to przyda nam się w automatyzacji, poprzez skrypty, procesu np. obliczeniowego.\n",
    "\n",
    "[```sed```](https://pl.wikipedia.org/wiki/Sed_(program)) czyli stream editor, edytor pozwalający na manipulowanie tekstem, który okazuje się też być językiem programowania! ```sed``` pozwala na użycie wyrażeń regularnych. Mi ```sed``` przydaje się jako narzędzie do automatyzacji operacji na plikach, takiej jak podmiany wartości w plikach konfiguracyjnych. \n",
    "\n",
    "```sed -i 's/fraza/fraza2/' plik``` - podmień pierwsze wystąpienie ```fraza``` na ```fraza2``` i nadpisz ```plik```.\n",
    "\n",
    "```sed 's/fraza/fraza2/' plik > plik2``` - jak wyżej, ale zapis do ```plik2```.\n",
    "\n",
    "```sed -i \"/<P> Re            = 750/ s/750/$re/\" sett.xml```"
   ]
  },
  {
   "cell_type": "markdown",
   "metadata": {},
   "source": [
    "## Programowanie w BASH\n",
    "Postaramy się teraz zaprezentować kilka elementów powłoki Bash, które pozwalają na automatyzacje zadań. Docelowo będziemy chcieli stworzyć skrypt przygotowujący drzewo katalogowe obliczeń do studium parametrycznego modelu, powiedzmy, że do optymalizacji.\n",
    "\n",
    "Zaczniemy od tego, że w powłoce użytkownik może definiować zmienne, oraz, że kilka takich zmiennych już istnieje, np PATH, HOME ale i inne. Zmienne używa się ze znakiem \\$:"
   ]
  },
  {
   "cell_type": "code",
   "execution_count": null,
   "metadata": {},
   "outputs": [],
   "source": [
    "echo $PATH"
   ]
  },
  {
   "cell_type": "code",
   "execution_count": null,
   "metadata": {},
   "outputs": [],
   "source": [
    "echo $HOME"
   ]
  },
  {
   "cell_type": "markdown",
   "metadata": {},
   "source": [
    "Możemy też zdefiniować własne:"
   ]
  },
  {
   "cell_type": "code",
   "execution_count": null,
   "metadata": {},
   "outputs": [],
   "source": [
    "nowa_zmienna=dowolny_kawalek_tekstu\n",
    "echo nowa_zmienne zawiera: $nowa_zmienna"
   ]
  },
  {
   "cell_type": "markdown",
   "metadata": {},
   "source": [
    "Napiszemy teraz instrukcję zawierają pojedyncze polecenie, ```echo``` (służy do wyświetlania):"
   ]
  },
  {
   "cell_type": "code",
   "execution_count": null,
   "metadata": {},
   "outputs": [],
   "source": [
    "echo Hello!"
   ]
  },
  {
   "cell_type": "markdown",
   "metadata": {},
   "source": [
    "a jeżeli zapiszemy to w pliku i nadamy mu prawo wykonania uzyskamy prosty skrypt postaci:  \n",
    "\n",
    "```\n",
    "#!/bin/bash\n",
    "# komentarz\n",
    "\n",
    "echo Hello!!\n",
    "```\n",
    "\n",
    "```#``` oznacza komentarz, natomiast ```#!``` informuje system, że do interpretacji wykorzystamy bash."
   ]
  },
  {
   "cell_type": "code",
   "execution_count": null,
   "metadata": {},
   "outputs": [],
   "source": [
    "ls -l"
   ]
  },
  {
   "cell_type": "markdown",
   "metadata": {},
   "source": [
    "Nadajemy prawa wykonania:"
   ]
  },
  {
   "cell_type": "code",
   "execution_count": null,
   "metadata": {},
   "outputs": [],
   "source": [
    "chmod u+x skrypt"
   ]
  },
  {
   "cell_type": "markdown",
   "metadata": {},
   "source": [
    "I możemy go wywołać:"
   ]
  },
  {
   "cell_type": "code",
   "execution_count": null,
   "metadata": {},
   "outputs": [],
   "source": [
    "./skrypt"
   ]
  },
  {
   "cell_type": "markdown",
   "metadata": {},
   "source": [
    "### Argumenty\n",
    "Skrypt można wywołać z argumentami, oraz ustalać zmienne. Obie kategorie dostępne są poprzez operator \\$  \n",
    "\n",
    "* \\$\\$ - PID procesu\n",
    "* \\\\$0 - nazwa pliku, w którym umieszczony jest skrypt\n",
    "* \\\\$1, \\\\$2, ... - pierwszy i kolejne argumenty  \n",
    "* \\$\\# - liczba argumentów"
   ]
  },
  {
   "cell_type": "code",
   "execution_count": null,
   "metadata": {},
   "outputs": [],
   "source": [
    "./skrypt 1 2 1000"
   ]
  },
  {
   "cell_type": "markdown",
   "metadata": {},
   "source": [
    "Możemy, np. napisać skrypt, który będzie sam siebie modyfikował ..."
   ]
  },
  {
   "cell_type": "markdown",
   "metadata": {},
   "source": [
    "### Prawie jak programowanie:\n",
    "#### Instrukcje warunkowe\n",
    "\n",
    "```\n",
    "if [ test ]\n",
    "then\n",
    "    what-if\n",
    "else\n",
    "    what-else\n",
    "fi\n",
    "```\n",
    "\n",
    "Uwaga: $[$ i $]$ muszą być wprowadzone ze spacją ponieważ są to polecenia powłoki znajdujące się w ```/bin```. Testować możemy wiele rzeczy.\n",
    "\n",
    "* -s file - czy plik istnieje i nie jest pusty\n",
    "* -f file - czy plik jest zwykły\n",
    "* -d file - czy plik jest katalogiem\n",
    "* -r, -w, -x - czy mozliwy odczyt / zapis/ wykonanie\n",
    "* Porównanie:\n",
    "    * -eq - równość\n",
    "    * -ne - nierówność\n",
    "    * -lt, gt, -le, -ge, - ...\n",
    "* inne do znalezienia w razie potrzeby\n",
    "\n",
    "Uwaga: znaki $>$ i $<$ są niedostępne (dlaczego?) dla wykonania testów logicznych."
   ]
  },
  {
   "cell_type": "markdown",
   "metadata": {},
   "source": [
    "By wykorzystać instrukcje warunkowe, czy pętle (zaraz) nie musimy koniecznie pisać skryptu. Możemy wywołać je wprost z linii komend. np: (konieczne mogą być średniki)"
   ]
  },
  {
   "cell_type": "code",
   "execution_count": null,
   "metadata": {},
   "outputs": [],
   "source": [
    "if [ ! -f burza ]; then echo Ala; else echo ma kota; fi"
   ]
  },
  {
   "cell_type": "markdown",
   "metadata": {},
   "source": [
    "#### Pętle for i while\n",
    "```\n",
    "for i in list\n",
    "do\n",
    "    zadania\n",
    "done\n",
    "```\n",
    "\n",
    "```\n",
    "while [ test ]\n",
    "do\n",
    "    zadania\n",
    "done\n",
    "```"
   ]
  },
  {
   "cell_type": "code",
   "execution_count": null,
   "metadata": {},
   "outputs": [],
   "source": [
    "$(seq $1 $3 $2)"
   ]
  },
  {
   "cell_type": "markdown",
   "metadata": {},
   "source": [
    "# Bazy danych\n",
    "Zorganizowany zbiór danych, obecnie przeważnie w formie elektronicznej, dostępny przy użyciu odpowiedniego programu (DBMS). Bazy danych klasyfikuje się, ze względu na model przechowywania danych. My wykorzystamy najczęściej używany typ bazy tj. *relacyjną*. W tym podejściu dane przechowywane są jako *rzędy* i *kolumny* w *tabelach* połączonych ze sobą *relacjami*. Operacje i zapytania najczęściej wykonuje się z użyciem SQL (Structured Query Language). Istnieją też inne modele baz (całkiem dużo) my wspomnimy tylko bazy nierelacyjne (NoSQL), które stały się popularne w zastosowaniach do aplikacji sieciowych i przetwarzania danych."
   ]
  }
 ],
 "metadata": {
  "kernelspec": {
   "display_name": "Python 3",
   "language": "python",
   "name": "python3"
  },
  "language_info": {
   "codemirror_mode": {
    "name": "ipython",
    "version": 3
   },
   "file_extension": ".py",
   "mimetype": "text/x-python",
   "name": "python",
   "nbconvert_exporter": "python",
   "pygments_lexer": "ipython3",
   "version": "3.8.10"
  }
 },
 "nbformat": 4,
 "nbformat_minor": 2
}
